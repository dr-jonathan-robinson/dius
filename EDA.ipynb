{
 "cells": [
  {
   "cell_type": "code",
   "execution_count": 2,
   "metadata": {},
   "outputs": [
    {
     "data": {
      "text/html": [
       "\n",
       "            <div>\n",
       "                <ins><a href=\"https://ydata.ai/register\">Upgrade to ydata-sdk</a></ins>\n",
       "                <p>\n",
       "                    Improve your data and profiling with ydata-sdk, featuring data quality scoring, redundancy detection, outlier identification, text validation, and synthetic data generation.\n",
       "                </p>\n",
       "            </div>\n",
       "            "
      ],
      "text/plain": [
       "<IPython.core.display.HTML object>"
      ]
     },
     "metadata": {},
     "output_type": "display_data"
    }
   ],
   "source": [
    "import numpy as np\n",
    "import pandas as pd\n",
    "from ydata_profiling import ProfileReport"
   ]
  },
  {
   "cell_type": "code",
   "execution_count": 3,
   "metadata": {},
   "outputs": [
    {
     "data": {
      "text/html": [
       "<div>\n",
       "<style scoped>\n",
       "    .dataframe tbody tr th:only-of-type {\n",
       "        vertical-align: middle;\n",
       "    }\n",
       "\n",
       "    .dataframe tbody tr th {\n",
       "        vertical-align: top;\n",
       "    }\n",
       "\n",
       "    .dataframe thead th {\n",
       "        text-align: right;\n",
       "    }\n",
       "</style>\n",
       "<table border=\"1\" class=\"dataframe\">\n",
       "  <thead>\n",
       "    <tr style=\"text-align: right;\">\n",
       "      <th></th>\n",
       "      <th>X1</th>\n",
       "      <th>X2</th>\n",
       "      <th>X3</th>\n",
       "      <th>X4</th>\n",
       "      <th>X5</th>\n",
       "      <th>X6</th>\n",
       "      <th>X7</th>\n",
       "      <th>X8</th>\n",
       "      <th>X9</th>\n",
       "      <th>X10</th>\n",
       "      <th>Y</th>\n",
       "    </tr>\n",
       "  </thead>\n",
       "  <tbody>\n",
       "    <tr>\n",
       "      <th>0</th>\n",
       "      <td>20.236432</td>\n",
       "      <td>67.523185</td>\n",
       "      <td>35.766385</td>\n",
       "      <td>68.459483</td>\n",
       "      <td>74.946516</td>\n",
       "      <td>89.632851</td>\n",
       "      <td>78.277026</td>\n",
       "      <td>116.827922</td>\n",
       "      <td>122.975621</td>\n",
       "      <td>DEB</td>\n",
       "      <td>842.547441</td>\n",
       "    </tr>\n",
       "    <tr>\n",
       "      <th>1</th>\n",
       "      <td>10.551182</td>\n",
       "      <td>57.675655</td>\n",
       "      <td>51.525733</td>\n",
       "      <td>49.891951</td>\n",
       "      <td>113.074296</td>\n",
       "      <td>81.223638</td>\n",
       "      <td>74.534979</td>\n",
       "      <td>92.063753</td>\n",
       "      <td>114.186779</td>\n",
       "      <td>AED</td>\n",
       "      <td>842.138909</td>\n",
       "    </tr>\n",
       "    <tr>\n",
       "      <th>2</th>\n",
       "      <td>14.069105</td>\n",
       "      <td>33.115667</td>\n",
       "      <td>60.014587</td>\n",
       "      <td>48.412263</td>\n",
       "      <td>88.815278</td>\n",
       "      <td>128.651604</td>\n",
       "      <td>79.616572</td>\n",
       "      <td>145.231095</td>\n",
       "      <td>122.473611</td>\n",
       "      <td>DAF</td>\n",
       "      <td>820.804741</td>\n",
       "    </tr>\n",
       "    <tr>\n",
       "      <th>3</th>\n",
       "      <td>15.537824</td>\n",
       "      <td>28.032600</td>\n",
       "      <td>68.797017</td>\n",
       "      <td>55.482058</td>\n",
       "      <td>59.269249</td>\n",
       "      <td>103.644283</td>\n",
       "      <td>77.766831</td>\n",
       "      <td>135.170297</td>\n",
       "      <td>145.037862</td>\n",
       "      <td>ACV</td>\n",
       "      <td>962.565837</td>\n",
       "    </tr>\n",
       "    <tr>\n",
       "      <th>4</th>\n",
       "      <td>10.791858</td>\n",
       "      <td>46.429463</td>\n",
       "      <td>48.373435</td>\n",
       "      <td>41.870487</td>\n",
       "      <td>101.306253</td>\n",
       "      <td>119.684299</td>\n",
       "      <td>75.929410</td>\n",
       "      <td>103.408770</td>\n",
       "      <td>140.392891</td>\n",
       "      <td>DAF</td>\n",
       "      <td>758.052022</td>\n",
       "    </tr>\n",
       "  </tbody>\n",
       "</table>\n",
       "</div>"
      ],
      "text/plain": [
       "          X1         X2         X3         X4          X5          X6  \\\n",
       "0  20.236432  67.523185  35.766385  68.459483   74.946516   89.632851   \n",
       "1  10.551182  57.675655  51.525733  49.891951  113.074296   81.223638   \n",
       "2  14.069105  33.115667  60.014587  48.412263   88.815278  128.651604   \n",
       "3  15.537824  28.032600  68.797017  55.482058   59.269249  103.644283   \n",
       "4  10.791858  46.429463  48.373435  41.870487  101.306253  119.684299   \n",
       "\n",
       "          X7          X8          X9  X10           Y  \n",
       "0  78.277026  116.827922  122.975621  DEB  842.547441  \n",
       "1  74.534979   92.063753  114.186779  AED  842.138909  \n",
       "2  79.616572  145.231095  122.473611  DAF  820.804741  \n",
       "3  77.766831  135.170297  145.037862  ACV  962.565837  \n",
       "4  75.929410  103.408770  140.392891  DAF  758.052022  "
      ]
     },
     "execution_count": 3,
     "metadata": {},
     "output_type": "execute_result"
    }
   ],
   "source": [
    "train_df = pd.read_csv('train.csv')\n",
    "train_df.head()"
   ]
  },
  {
   "cell_type": "markdown",
   "metadata": {},
   "source": [
    "Generate an EDA report. This will be in the file `profile_report.html`."
   ]
  },
  {
   "cell_type": "code",
   "execution_count": 9,
   "metadata": {},
   "outputs": [
    {
     "data": {
      "application/vnd.jupyter.widget-view+json": {
       "model_id": "202859b220614f288475ced6862ca50a",
       "version_major": 2,
       "version_minor": 0
      },
      "text/plain": [
       "Summarize dataset:   0%|          | 0/5 [00:00<?, ?it/s]"
      ]
     },
     "metadata": {},
     "output_type": "display_data"
    },
    {
     "name": "stderr",
     "output_type": "stream",
     "text": [
      "100%|██████████| 11/11 [00:00<00:00, 441.73it/s]\n"
     ]
    },
    {
     "data": {
      "application/vnd.jupyter.widget-view+json": {
       "model_id": "447cb27c314d49b7b76063064ab77d51",
       "version_major": 2,
       "version_minor": 0
      },
      "text/plain": [
       "Generate report structure:   0%|          | 0/1 [00:00<?, ?it/s]"
      ]
     },
     "metadata": {},
     "output_type": "display_data"
    },
    {
     "data": {
      "application/vnd.jupyter.widget-view+json": {
       "model_id": "46f29158144243579109d3581a73fe4e",
       "version_major": 2,
       "version_minor": 0
      },
      "text/plain": [
       "Render HTML:   0%|          | 0/1 [00:00<?, ?it/s]"
      ]
     },
     "metadata": {},
     "output_type": "display_data"
    },
    {
     "data": {
      "application/vnd.jupyter.widget-view+json": {
       "model_id": "d860e6c36dac40a9907a8c5e42a35c13",
       "version_major": 2,
       "version_minor": 0
      },
      "text/plain": [
       "Export report to file:   0%|          | 0/1 [00:00<?, ?it/s]"
      ]
     },
     "metadata": {},
     "output_type": "display_data"
    }
   ],
   "source": [
    "profile = ProfileReport(train_df, title=\"Profiling Report\")\n",
    "profile.to_file(\"profile_report.html\")"
   ]
  },
  {
   "cell_type": "markdown",
   "metadata": {},
   "source": [
    "Look for skew in the target"
   ]
  },
  {
   "cell_type": "code",
   "execution_count": 19,
   "metadata": {},
   "outputs": [
    {
     "name": "stdout",
     "output_type": "stream",
     "text": [
      "Mean = 870.3776798661333, Median = 875.60979075. 0.0060% difference\n"
     ]
    }
   ],
   "source": [
    "avg = train_df['Y'].mean()\n",
    "med = train_df['Y'].median()\n",
    "print(f\"Mean = {avg}, Median = {med}. {(med/avg)-1:.4f}% difference\")"
   ]
  }
 ],
 "metadata": {
  "kernelspec": {
   "display_name": "newsrush",
   "language": "python",
   "name": "python3"
  },
  "language_info": {
   "codemirror_mode": {
    "name": "ipython",
    "version": 3
   },
   "file_extension": ".py",
   "mimetype": "text/x-python",
   "name": "python",
   "nbconvert_exporter": "python",
   "pygments_lexer": "ipython3",
   "version": "3.11.5"
  }
 },
 "nbformat": 4,
 "nbformat_minor": 2
}
